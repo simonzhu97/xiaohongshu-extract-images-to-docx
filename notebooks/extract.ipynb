{
 "cells": [
  {
   "cell_type": "code",
   "execution_count": 1,
   "metadata": {},
   "outputs": [],
   "source": [
    "# Import docx NOT python-docx\n",
    "from datetime import date\n",
    "from selenium import webdriver\n",
    "from selenium.webdriver.common.by import By\n",
    "from sortedcontainers import SortedDict\n",
    "import requests\n",
    "from PIL import Image\n",
    "import io\n",
    "import docx\n",
    "from docx.shared import Inches\n",
    "from docx.enum.text import WD_BREAK"
   ]
  },
  {
   "cell_type": "code",
   "execution_count": null,
   "metadata": {},
   "outputs": [],
   "source": [
    "URL = \"https://www.xiaohongshu.com/explore/65465c7f0000000020000685\"\n",
    "DOC_NAME = \"temp\""
   ]
  },
  {
   "cell_type": "code",
   "execution_count": 2,
   "metadata": {},
   "outputs": [],
   "source": [
    "def create_doc(doc_heading:str = None):\n",
    "    # create an instance of an empty word document\n",
    "    doc = docx.Document()\n",
    "    # Add a title to the document\n",
    "    if doc_heading:\n",
    "        doc.add_heading(doc_heading,0)\n",
    "    return doc"
   ]
  },
  {
   "cell_type": "code",
   "execution_count": 11,
   "metadata": {},
   "outputs": [],
   "source": [
    "def save_doc(doc, doc_name:str):\n",
    "    doc_name = '_'.join([doc_name,str(date.today())])\n",
    "    doc_name += '.docx'\n",
    "    doc.save(doc_name)"
   ]
  },
  {
   "cell_type": "code",
   "execution_count": 4,
   "metadata": {},
   "outputs": [],
   "source": [
    "def clean_url(url:str):\n",
    "    if url:\n",
    "        return url.split('?')[0]\n",
    "    raise TypeError(\"Not correct xiaohongshu url!\")"
   ]
  },
  {
   "cell_type": "code",
   "execution_count": 5,
   "metadata": {},
   "outputs": [],
   "source": [
    "def create_image_dict(url:str)->dict:\n",
    "    driver = webdriver.Chrome()\n",
    "    driver.get(clean_url(url))\n",
    "    images = SortedDict()\n",
    "    slides = driver.find_elements(By.XPATH,\"//div[@class='swiper-wrapper']//div\")\n",
    "    for slide in slides:\n",
    "        res_str = slide.get_attribute('style').split('\"')[1]\n",
    "        images[int(slide.get_attribute('data-swiper-slide-index'))] = res_str\n",
    "    return images"
   ]
  },
  {
   "cell_type": "code",
   "execution_count": 6,
   "metadata": {},
   "outputs": [],
   "source": [
    "def add_image_from_web(doc, image_url):\n",
    "    # Standard dimensions for a Word document page (usually in inches)\n",
    "    page_width_inch = 6.5  # This accounts for 1-inch margins on each side\n",
    "    page_height_inch = 9   # This accounts for 1-inch top and bottom margins\n",
    "\n",
    "    response = requests.get(image_url)\n",
    "\n",
    "    if response.status_code == 200:\n",
    "        image_webp = Image.open(io.BytesIO(response.content))\n",
    "        \n",
    "        # Get document page size in pixels at 72 DPI (Word's default DPI)\n",
    "        page_width_px = int(page_width_inch * 72)\n",
    "        page_height_px = int(page_height_inch * 72)\n",
    "        \n",
    "        # Scale the image to fit the width while maintaining aspect ratio\n",
    "        image_ratio = image_webp.width / image_webp.height\n",
    "        page_ratio = page_width_px / page_height_px\n",
    "        \n",
    "        if image_ratio > page_ratio:\n",
    "            # Image is wider than page, scale by width\n",
    "            new_width = page_width_px\n",
    "            new_height = round(page_width_px / image_ratio)\n",
    "        else:\n",
    "            # Image is taller than page, scale by height\n",
    "            new_height = page_height_px\n",
    "            new_width = round(page_height_px * image_ratio)\n",
    "        \n",
    "        # Resize the image using Resampling.LANCZOS\n",
    "        image_resized = image_webp.resize((new_width, new_height), Image.LANCZOS)\n",
    "        \n",
    "        # Convert to a compatible format (PNG)\n",
    "        image_stream = io.BytesIO()\n",
    "        image_resized.save(image_stream, format='PNG')\n",
    "        \n",
    "        # Seek to the beginning of the stream\n",
    "        image_stream.seek(0)\n",
    "        \n",
    "        # Add the image to the document with a width of 6.5 inches\n",
    "        doc.add_picture(image_stream, width=Inches(page_width_inch))\n",
    "\n",
    "        # Add a page break\n",
    "        doc.add_paragraph().add_run().add_break(WD_BREAK.PAGE)\n",
    "        print('The image has been added and scaled to fit the page in the doc')\n",
    "    else:\n",
    "        print(f\"Failed to retrieve the image. Status code: {response.status_code}\")\n"
   ]
  },
  {
   "cell_type": "code",
   "execution_count": 8,
   "metadata": {},
   "outputs": [],
   "source": [
    "images = create_image_dict(URL)\n",
    "doc = create_doc()\n",
    "for k,v in images.items():\n",
    "    add_image_from_web(doc,v)\n",
    "save_doc(doc,DOC_NAME)"
   ]
  },
  {
   "cell_type": "code",
   "execution_count": 10,
   "metadata": {},
   "outputs": [],
   "source": []
  }
 ],
 "metadata": {
  "kernelspec": {
   "display_name": "humana",
   "language": "python",
   "name": "python3"
  },
  "language_info": {
   "codemirror_mode": {
    "name": "ipython",
    "version": 3
   },
   "file_extension": ".py",
   "mimetype": "text/x-python",
   "name": "python",
   "nbconvert_exporter": "python",
   "pygments_lexer": "ipython3",
   "version": "3.9.13"
  },
  "orig_nbformat": 4
 },
 "nbformat": 4,
 "nbformat_minor": 2
}
